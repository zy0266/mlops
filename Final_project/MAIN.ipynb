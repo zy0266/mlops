{
 "cells": [
  {
   "cell_type": "markdown",
   "metadata": {},
   "source": [
    "#  Diamonds price prediction"
   ]
  },
  {
   "cell_type": "markdown",
   "metadata": {},
   "source": [
    "## 1 load_data"
   ]
  },
  {
   "cell_type": "code",
   "execution_count": 7,
   "metadata": {},
   "outputs": [
    {
     "name": "stderr",
     "output_type": "stream",
     "text": [
      "c:\\Users\\c\\anaconda3\\envs\\nyc-taxi\\lib\\site-packages\\tqdm\\auto.py:21: TqdmWarning: IProgress not found. Please update jupyter and ipywidgets. See https://ipywidgets.readthedocs.io/en/stable/user_install.html\n",
      "  from .autonotebook import tqdm as notebook_tqdm\n"
     ]
    },
    {
     "name": "stdout",
     "output_type": "stream",
     "text": [
      "Path to dataset files: C:\\Users\\c\\.cache\\kagglehub\\datasets\\ulrikthygepedersen\\diamonds\\versions\\1\n"
     ]
    }
   ],
   "source": [
    "import kagglehub\n",
    "import os\n",
    "\n",
    "\n",
    "\n",
    "# Download latest version\n",
    "path = kagglehub.dataset_download(\"ulrikthygepedersen/diamonds\")\n",
    "\n",
    "\n",
    "\n",
    "# Print the path to the downloaded dataset files\n",
    "print(\"Path to dataset files:\", path)\n"
   ]
  },
  {
   "cell_type": "code",
   "execution_count": 8,
   "metadata": {},
   "outputs": [],
   "source": [
    "import pandas as pd\n",
    "data=pd.read_csv(os.path.join(path,\"diamonds.csv\"))"
   ]
  },
  {
   "cell_type": "code",
   "execution_count": 9,
   "metadata": {},
   "outputs": [
    {
     "data": {
      "text/html": [
       "<div>\n",
       "<style scoped>\n",
       "    .dataframe tbody tr th:only-of-type {\n",
       "        vertical-align: middle;\n",
       "    }\n",
       "\n",
       "    .dataframe tbody tr th {\n",
       "        vertical-align: top;\n",
       "    }\n",
       "\n",
       "    .dataframe thead th {\n",
       "        text-align: right;\n",
       "    }\n",
       "</style>\n",
       "<table border=\"1\" class=\"dataframe\">\n",
       "  <thead>\n",
       "    <tr style=\"text-align: right;\">\n",
       "      <th></th>\n",
       "      <th>carat</th>\n",
       "      <th>cut</th>\n",
       "      <th>color</th>\n",
       "      <th>clarity</th>\n",
       "      <th>depth</th>\n",
       "      <th>table</th>\n",
       "      <th>price</th>\n",
       "      <th>'x'</th>\n",
       "      <th>'y'</th>\n",
       "      <th>'z'</th>\n",
       "    </tr>\n",
       "  </thead>\n",
       "  <tbody>\n",
       "    <tr>\n",
       "      <th>0</th>\n",
       "      <td>0.23</td>\n",
       "      <td>b'Ideal'</td>\n",
       "      <td>b'E'</td>\n",
       "      <td>b'SI2'</td>\n",
       "      <td>61.5</td>\n",
       "      <td>55.0</td>\n",
       "      <td>326.0</td>\n",
       "      <td>3.95</td>\n",
       "      <td>3.98</td>\n",
       "      <td>2.43</td>\n",
       "    </tr>\n",
       "    <tr>\n",
       "      <th>1</th>\n",
       "      <td>0.21</td>\n",
       "      <td>b'Premium'</td>\n",
       "      <td>b'E'</td>\n",
       "      <td>b'SI1'</td>\n",
       "      <td>59.8</td>\n",
       "      <td>61.0</td>\n",
       "      <td>326.0</td>\n",
       "      <td>3.89</td>\n",
       "      <td>3.84</td>\n",
       "      <td>2.31</td>\n",
       "    </tr>\n",
       "    <tr>\n",
       "      <th>2</th>\n",
       "      <td>0.23</td>\n",
       "      <td>b'Good'</td>\n",
       "      <td>b'E'</td>\n",
       "      <td>b'VS1'</td>\n",
       "      <td>56.9</td>\n",
       "      <td>65.0</td>\n",
       "      <td>327.0</td>\n",
       "      <td>4.05</td>\n",
       "      <td>4.07</td>\n",
       "      <td>2.31</td>\n",
       "    </tr>\n",
       "    <tr>\n",
       "      <th>3</th>\n",
       "      <td>0.29</td>\n",
       "      <td>b'Premium'</td>\n",
       "      <td>b'I'</td>\n",
       "      <td>b'VS2'</td>\n",
       "      <td>62.4</td>\n",
       "      <td>58.0</td>\n",
       "      <td>334.0</td>\n",
       "      <td>4.20</td>\n",
       "      <td>4.23</td>\n",
       "      <td>2.63</td>\n",
       "    </tr>\n",
       "    <tr>\n",
       "      <th>4</th>\n",
       "      <td>0.31</td>\n",
       "      <td>b'Good'</td>\n",
       "      <td>b'J'</td>\n",
       "      <td>b'SI2'</td>\n",
       "      <td>63.3</td>\n",
       "      <td>58.0</td>\n",
       "      <td>335.0</td>\n",
       "      <td>4.34</td>\n",
       "      <td>4.35</td>\n",
       "      <td>2.75</td>\n",
       "    </tr>\n",
       "  </tbody>\n",
       "</table>\n",
       "</div>"
      ],
      "text/plain": [
       "   carat         cut color clarity  depth  table  price   'x'   'y'   'z'\n",
       "0   0.23    b'Ideal'  b'E'  b'SI2'   61.5   55.0  326.0  3.95  3.98  2.43\n",
       "1   0.21  b'Premium'  b'E'  b'SI1'   59.8   61.0  326.0  3.89  3.84  2.31\n",
       "2   0.23     b'Good'  b'E'  b'VS1'   56.9   65.0  327.0  4.05  4.07  2.31\n",
       "3   0.29  b'Premium'  b'I'  b'VS2'   62.4   58.0  334.0  4.20  4.23  2.63\n",
       "4   0.31     b'Good'  b'J'  b'SI2'   63.3   58.0  335.0  4.34  4.35  2.75"
      ]
     },
     "execution_count": 9,
     "metadata": {},
     "output_type": "execute_result"
    }
   ],
   "source": [
    "data.head()"
   ]
  },
  {
   "cell_type": "code",
   "execution_count": 10,
   "metadata": {},
   "outputs": [
    {
     "name": "stdout",
     "output_type": "stream",
     "text": [
      "<class 'pandas.core.frame.DataFrame'>\n",
      "RangeIndex: 53940 entries, 0 to 53939\n",
      "Data columns (total 10 columns):\n",
      " #   Column   Non-Null Count  Dtype  \n",
      "---  ------   --------------  -----  \n",
      " 0   carat    53940 non-null  float64\n",
      " 1   cut      53940 non-null  object \n",
      " 2   color    53940 non-null  object \n",
      " 3   clarity  53940 non-null  object \n",
      " 4   depth    53940 non-null  float64\n",
      " 5   table    53940 non-null  float64\n",
      " 6   price    53940 non-null  float64\n",
      " 7   'x'      53940 non-null  float64\n",
      " 8   'y'      53940 non-null  float64\n",
      " 9   'z'      53940 non-null  float64\n",
      "dtypes: float64(7), object(3)\n",
      "memory usage: 4.1+ MB\n"
     ]
    }
   ],
   "source": [
    "data.info()"
   ]
  },
  {
   "cell_type": "code",
   "execution_count": 11,
   "metadata": {},
   "outputs": [
    {
     "data": {
      "text/html": [
       "<div>\n",
       "<style scoped>\n",
       "    .dataframe tbody tr th:only-of-type {\n",
       "        vertical-align: middle;\n",
       "    }\n",
       "\n",
       "    .dataframe tbody tr th {\n",
       "        vertical-align: top;\n",
       "    }\n",
       "\n",
       "    .dataframe thead th {\n",
       "        text-align: right;\n",
       "    }\n",
       "</style>\n",
       "<table border=\"1\" class=\"dataframe\">\n",
       "  <thead>\n",
       "    <tr style=\"text-align: right;\">\n",
       "      <th></th>\n",
       "      <th>carat</th>\n",
       "      <th>depth</th>\n",
       "      <th>table</th>\n",
       "      <th>price</th>\n",
       "      <th>'x'</th>\n",
       "      <th>'y'</th>\n",
       "      <th>'z'</th>\n",
       "    </tr>\n",
       "  </thead>\n",
       "  <tbody>\n",
       "    <tr>\n",
       "      <th>count</th>\n",
       "      <td>53940.000000</td>\n",
       "      <td>53940.000000</td>\n",
       "      <td>53940.000000</td>\n",
       "      <td>53940.000000</td>\n",
       "      <td>53940.000000</td>\n",
       "      <td>53940.000000</td>\n",
       "      <td>53940.000000</td>\n",
       "    </tr>\n",
       "    <tr>\n",
       "      <th>mean</th>\n",
       "      <td>0.797940</td>\n",
       "      <td>61.749405</td>\n",
       "      <td>57.457184</td>\n",
       "      <td>3932.799722</td>\n",
       "      <td>5.731157</td>\n",
       "      <td>5.734526</td>\n",
       "      <td>3.538734</td>\n",
       "    </tr>\n",
       "    <tr>\n",
       "      <th>std</th>\n",
       "      <td>0.474011</td>\n",
       "      <td>1.432621</td>\n",
       "      <td>2.234491</td>\n",
       "      <td>3989.439738</td>\n",
       "      <td>1.121761</td>\n",
       "      <td>1.142135</td>\n",
       "      <td>0.705699</td>\n",
       "    </tr>\n",
       "    <tr>\n",
       "      <th>min</th>\n",
       "      <td>0.200000</td>\n",
       "      <td>43.000000</td>\n",
       "      <td>43.000000</td>\n",
       "      <td>326.000000</td>\n",
       "      <td>0.000000</td>\n",
       "      <td>0.000000</td>\n",
       "      <td>0.000000</td>\n",
       "    </tr>\n",
       "    <tr>\n",
       "      <th>25%</th>\n",
       "      <td>0.400000</td>\n",
       "      <td>61.000000</td>\n",
       "      <td>56.000000</td>\n",
       "      <td>950.000000</td>\n",
       "      <td>4.710000</td>\n",
       "      <td>4.720000</td>\n",
       "      <td>2.910000</td>\n",
       "    </tr>\n",
       "    <tr>\n",
       "      <th>50%</th>\n",
       "      <td>0.700000</td>\n",
       "      <td>61.800000</td>\n",
       "      <td>57.000000</td>\n",
       "      <td>2401.000000</td>\n",
       "      <td>5.700000</td>\n",
       "      <td>5.710000</td>\n",
       "      <td>3.530000</td>\n",
       "    </tr>\n",
       "    <tr>\n",
       "      <th>75%</th>\n",
       "      <td>1.040000</td>\n",
       "      <td>62.500000</td>\n",
       "      <td>59.000000</td>\n",
       "      <td>5324.250000</td>\n",
       "      <td>6.540000</td>\n",
       "      <td>6.540000</td>\n",
       "      <td>4.040000</td>\n",
       "    </tr>\n",
       "    <tr>\n",
       "      <th>max</th>\n",
       "      <td>5.010000</td>\n",
       "      <td>79.000000</td>\n",
       "      <td>95.000000</td>\n",
       "      <td>18823.000000</td>\n",
       "      <td>10.740000</td>\n",
       "      <td>58.900000</td>\n",
       "      <td>31.800000</td>\n",
       "    </tr>\n",
       "  </tbody>\n",
       "</table>\n",
       "</div>"
      ],
      "text/plain": [
       "              carat         depth         table         price           'x'  \\\n",
       "count  53940.000000  53940.000000  53940.000000  53940.000000  53940.000000   \n",
       "mean       0.797940     61.749405     57.457184   3932.799722      5.731157   \n",
       "std        0.474011      1.432621      2.234491   3989.439738      1.121761   \n",
       "min        0.200000     43.000000     43.000000    326.000000      0.000000   \n",
       "25%        0.400000     61.000000     56.000000    950.000000      4.710000   \n",
       "50%        0.700000     61.800000     57.000000   2401.000000      5.700000   \n",
       "75%        1.040000     62.500000     59.000000   5324.250000      6.540000   \n",
       "max        5.010000     79.000000     95.000000  18823.000000     10.740000   \n",
       "\n",
       "                'y'           'z'  \n",
       "count  53940.000000  53940.000000  \n",
       "mean       5.734526      3.538734  \n",
       "std        1.142135      0.705699  \n",
       "min        0.000000      0.000000  \n",
       "25%        4.720000      2.910000  \n",
       "50%        5.710000      3.530000  \n",
       "75%        6.540000      4.040000  \n",
       "max       58.900000     31.800000  "
      ]
     },
     "execution_count": 11,
     "metadata": {},
     "output_type": "execute_result"
    }
   ],
   "source": [
    "data.describe()"
   ]
  },
  {
   "cell_type": "code",
   "execution_count": 12,
   "metadata": {},
   "outputs": [
    {
     "data": {
      "text/plain": [
       "carat      0\n",
       "cut        0\n",
       "color      0\n",
       "clarity    0\n",
       "depth      0\n",
       "table      0\n",
       "price      0\n",
       "'x'        0\n",
       "'y'        0\n",
       "'z'        0\n",
       "dtype: int64"
      ]
     },
     "execution_count": 12,
     "metadata": {},
     "output_type": "execute_result"
    }
   ],
   "source": [
    "data.isnull().sum()"
   ]
  },
  {
   "cell_type": "markdown",
   "metadata": {},
   "source": [
    "## 2 clean_ data"
   ]
  },
  {
   "cell_type": "code",
   "execution_count": 13,
   "metadata": {},
   "outputs": [],
   "source": [
    "numerical_cols = data.select_dtypes(include=['int64', 'float64']).columns\n",
    "categorical_cols = data.select_dtypes(include=['object']).columns"
   ]
  },
  {
   "cell_type": "code",
   "execution_count": 14,
   "metadata": {},
   "outputs": [],
   "source": [
    "import numpy as np\n",
    "#sklearn.model\n",
    "from sklearn.model_selection import train_test_split, GridSearchCV\n",
    "#pre\n",
    "from sklearn.preprocessing import StandardScaler, OneHotEncoder\n",
    "from sklearn.pipeline import Pipeline\n",
    "from sklearn.compose import ColumnTransformer\n",
    "from sklearn.impute import SimpleImputer\n",
    "from sklearn.ensemble import RandomForestRegressor\n",
    "from sklearn.metrics import mean_squared_error\n",
    "#plot\n",
    "import seaborn as sns\n",
    "import matplotlib.pyplot as plt\n",
    "#\n",
    "from sklearn.linear_model import LinearRegression\n",
    "from sklearn.tree import DecisionTreeRegressor\n",
    "\n",
    "from sklearn.svm import SVR\n"
   ]
  },
  {
   "cell_type": "code",
   "execution_count": 15,
   "metadata": {},
   "outputs": [],
   "source": [
    "numerical_cols = numerical_cols.tolist()\n",
    "numerical_cols.remove(\"price\")\n",
    "X = data.drop('price', axis=1)\n",
    "y = data['price']\n",
    "\n",
    "# Define transformers for preprocessing\n",
    "numeric_transformer = Pipeline(steps=[\n",
    "    ('imputer', SimpleImputer(strategy='median')),\n",
    "    ('scaler', StandardScaler())])\n",
    "\n",
    "categorical_transformer = Pipeline(steps=[\n",
    "    ('imputer', SimpleImputer(strategy='most_frequent')),\n",
    "    ('onehot', OneHotEncoder(handle_unknown='ignore'))])\n",
    "\n",
    "# Column transformer\n",
    "preprocessor = ColumnTransformer(\n",
    "    transformers=[\n",
    "        ('num', numeric_transformer, numerical_cols),\n",
    "        ('cat', categorical_transformer, categorical_cols)])"
   ]
  },
  {
   "cell_type": "code",
   "execution_count": 16,
   "metadata": {},
   "outputs": [],
   "source": [
    "X_train, X_test, y_train, y_test = train_test_split(X, y, test_size=0.2, random_state=42)"
   ]
  },
  {
   "cell_type": "markdown",
   "metadata": {},
   "source": [
    "## 3 train model"
   ]
  },
  {
   "cell_type": "code",
   "execution_count": 17,
   "metadata": {},
   "outputs": [],
   "source": [
    "models = [(\"Linear Regression\", LinearRegression()),\n",
    "          (\"Decision Tree\", DecisionTreeRegressor()),\n",
    "          (\"Random Forest\", RandomForestRegressor()),\n",
    "          (\"Support Vector Regression\", SVR())]\n"
   ]
  },
  {
   "cell_type": "code",
   "execution_count": 21,
   "metadata": {},
   "outputs": [
    {
     "name": "stdout",
     "output_type": "stream",
     "text": [
      "Linear Regression RMSE: 1135.1979088220137\n",
      "Decision Tree RMSE: 741.5402197466121\n",
      "Random Forest RMSE: 551.0875222866462\n"
     ]
    },
    {
     "ename": "",
     "evalue": "",
     "output_type": "error",
     "traceback": [
      "\u001b[1;31mCannot execute code, session has been disposed. Please try restarting the Kernel."
     ]
    },
    {
     "ename": "",
     "evalue": "",
     "output_type": "error",
     "traceback": [
      "\u001b[1;31mCannot execute code, session has been disposed. Please try restarting the Kernel. \n",
      "\u001b[1;31mView Jupyter <a href='command:jupyter.viewOutput'>log</a> for further details."
     ]
    }
   ],
   "source": [
    "results = {}\n",
    "for model_name, model in models:\n",
    "    # Create a pipeline for each model\n",
    "    model_pipeline = Pipeline(steps=[('preprocessor', preprocessor),('regressor', model)])\n",
    "\n",
    "    # Train model\n",
    "    model_pipeline.fit(X_train, y_train)\n",
    "\n",
    "    # Predict and evaluate\n",
    "    y_pred = model_pipeline.predict(X_test)\n",
    "    mse = mean_squared_error(y_test, y_pred)\n",
    "    rmse = np.sqrt(mse)\n",
    "    results[model_name] = rmse\n",
    "    print(f\"{model_name} RMSE: {rmse}\")\n"
   ]
  },
  {
   "cell_type": "markdown",
   "metadata": {},
   "source": [
    "## 4 track_with_MLFlow"
   ]
  },
  {
   "cell_type": "code",
   "execution_count": 17,
   "metadata": {},
   "outputs": [
    {
     "name": "stdout",
     "output_type": "stream",
     "text": [
      "{'Linear Regression': 1135.1979088220137, 'Decision Tree': 736.7439121834765}\n"
     ]
    }
   ],
   "source": [
    "print(results)"
   ]
  },
  {
   "cell_type": "code",
   "execution_count": 18,
   "metadata": {},
   "outputs": [],
   "source": [
    "import mlflow"
   ]
  },
  {
   "cell_type": "code",
   "execution_count": 3,
   "metadata": {},
   "outputs": [
    {
     "name": "stdout",
     "output_type": "stream",
     "text": [
      "tracking URI: 'http://127.0.0.1:5000/'\n"
     ]
    }
   ],
   "source": [
    "mlflow.set_tracking_uri(\"http://127.0.0.1:5000/\")\n",
    "print(f\"tracking URI: '{mlflow.get_tracking_uri()}'\")"
   ]
  },
  {
   "cell_type": "code",
   "execution_count": 4,
   "metadata": {},
   "outputs": [],
   "source": [
    "import pandas as pd\n",
    "import numpy as np\n",
    "\n",
    "from sklearn.feature_extraction import DictVectorizer\n",
    "from sklearn.linear_model import LinearRegression\n",
    "\n",
    "from sklearn.metrics import mean_squared_error\n",
    "\n",
    "from typing import List\n",
    "from scipy.sparse import csr_matrix"
   ]
  },
  {
   "cell_type": "code",
   "execution_count": 5,
   "metadata": {},
   "outputs": [],
   "source": [
    "def extract_x_y(\n",
    "    df: pd.DataFrame,\n",
    "    categorical_cols: List[str] = None,\n",
    "    dv: DictVectorizer = None,\n",
    "    with_target: bool = True,\n",
    ") -> dict:\n",
    "\n",
    "    if categorical_cols is None:\n",
    "        categorical_cols = [\"cut\", \"color\", \"clarity\"]\n",
    "    dicts = df[categorical_cols].to_dict(orient=\"records\")\n",
    "\n",
    "    y = None\n",
    "    if with_target:\n",
    "        if dv is None:\n",
    "            dv = DictVectorizer()\n",
    "            dv.fit(dicts)\n",
    "            \n",
    "        y = df[\"price\"].values\n",
    "\n",
    "    x = dv.transform(dicts)\n",
    "    return x, y, dv\n",
    "\n",
    "\n",
    "#X_train, y_train, dv = extract_x_y(test_df)"
   ]
  },
  {
   "cell_type": "code",
   "execution_count": 6,
   "metadata": {},
   "outputs": [],
   "source": [
    "import pickle\n",
    "\n",
    "def load_pickle(path: str):\n",
    "    with open(path, \"rb\") as f:\n",
    "        loaded_obj = pickle.load(f)\n",
    "    return loaded_obj\n",
    "\n",
    "\n",
    "def predict_updated(input_path: str, model: LinearRegression):\n",
    "    input_data = load_pickle(input_path)\n",
    "    return model.predict(input_data)"
   ]
  },
  {
   "cell_type": "code",
   "execution_count": 19,
   "metadata": {},
   "outputs": [
    {
     "name": "stderr",
     "output_type": "stream",
     "text": [
      "2025/01/06 17:28:29 INFO mlflow.tracking.fluent: Experiment with name 'MLflow_track_diamonds' does not exist. Creating a new experiment.\n",
      "2025/01/06 17:28:30 WARNING mlflow.sklearn: Model was missing function: predict. Not logging python_function flavor!\n",
      "Successfully registered model 'tracking-diamonds'.\n",
      "2025/01/06 17:28:37 INFO mlflow.tracking._model_registry.client: Waiting up to 300 seconds for model version to finish creation. Model name: tracking-diamonds, version 1\n",
      "Created version '1' of model 'tracking-diamonds'.\n",
      "2025/01/06 17:28:38 WARNING mlflow.sklearn: Model was missing function: predict. Not logging python_function flavor!\n",
      "c:\\Users\\c\\anaconda3\\envs\\nyc-taxi\\lib\\site-packages\\_distutils_hack\\__init__.py:15: UserWarning: Distutils was imported before Setuptools, but importing Setuptools also replaces the `distutils` module in `sys.modules`. This may lead to undesirable behaviors or errors. To avoid these issues, avoid using distutils directly, ensure that setuptools is installed in the traditional way (e.g. not an editable install), and/or make sure that setuptools is always imported before distutils.\n",
      "  warnings.warn(\n",
      "c:\\Users\\c\\anaconda3\\envs\\nyc-taxi\\lib\\site-packages\\_distutils_hack\\__init__.py:30: UserWarning: Setuptools is replacing distutils. Support for replacing an already imported distutils is deprecated. In the future, this condition will fail. Register concerns at https://github.com/pypa/setuptools/issues/new?template=distutils-deprecation.yml\n",
      "  warnings.warn(\n",
      "Registered model 'tracking-diamonds' already exists. Creating a new version of this model...\n",
      "2025/01/06 17:28:42 INFO mlflow.tracking._model_registry.client: Waiting up to 300 seconds for model version to finish creation. Model name: tracking-diamonds, version 2\n",
      "Created version '2' of model 'tracking-diamonds'.\n",
      "2025/01/06 17:29:42 WARNING mlflow.sklearn: Model was missing function: predict. Not logging python_function flavor!\n",
      "c:\\Users\\c\\anaconda3\\envs\\nyc-taxi\\lib\\site-packages\\_distutils_hack\\__init__.py:15: UserWarning: Distutils was imported before Setuptools, but importing Setuptools also replaces the `distutils` module in `sys.modules`. This may lead to undesirable behaviors or errors. To avoid these issues, avoid using distutils directly, ensure that setuptools is installed in the traditional way (e.g. not an editable install), and/or make sure that setuptools is always imported before distutils.\n",
      "  warnings.warn(\n",
      "c:\\Users\\c\\anaconda3\\envs\\nyc-taxi\\lib\\site-packages\\_distutils_hack\\__init__.py:30: UserWarning: Setuptools is replacing distutils. Support for replacing an already imported distutils is deprecated. In the future, this condition will fail. Register concerns at https://github.com/pypa/setuptools/issues/new?template=distutils-deprecation.yml\n",
      "  warnings.warn(\n",
      "Registered model 'tracking-diamonds' already exists. Creating a new version of this model...\n",
      "2025/01/06 17:29:45 INFO mlflow.tracking._model_registry.client: Waiting up to 300 seconds for model version to finish creation. Model name: tracking-diamonds, version 3\n",
      "Created version '3' of model 'tracking-diamonds'.\n",
      "2025/01/06 17:34:23 WARNING mlflow.sklearn: Model was missing function: predict. Not logging python_function flavor!\n",
      "c:\\Users\\c\\anaconda3\\envs\\nyc-taxi\\lib\\site-packages\\_distutils_hack\\__init__.py:15: UserWarning: Distutils was imported before Setuptools, but importing Setuptools also replaces the `distutils` module in `sys.modules`. This may lead to undesirable behaviors or errors. To avoid these issues, avoid using distutils directly, ensure that setuptools is installed in the traditional way (e.g. not an editable install), and/or make sure that setuptools is always imported before distutils.\n",
      "  warnings.warn(\n",
      "c:\\Users\\c\\anaconda3\\envs\\nyc-taxi\\lib\\site-packages\\_distutils_hack\\__init__.py:30: UserWarning: Setuptools is replacing distutils. Support for replacing an already imported distutils is deprecated. In the future, this condition will fail. Register concerns at https://github.com/pypa/setuptools/issues/new?template=distutils-deprecation.yml\n",
      "  warnings.warn(\n",
      "Registered model 'tracking-diamonds' already exists. Creating a new version of this model...\n",
      "2025/01/06 17:34:27 INFO mlflow.tracking._model_registry.client: Waiting up to 300 seconds for model version to finish creation. Model name: tracking-diamonds, version 4\n",
      "Created version '4' of model 'tracking-diamonds'.\n"
     ]
    }
   ],
   "source": [
    "\n",
    "\n",
    "# Create a new MLflow Experiment\n",
    "mlflow.set_experiment(\"MLflow_track_diamonds\")\n",
    "from mlflow.models import infer_signature\n",
    "\n",
    "\n",
    "\n",
    "for model_name, model in models:\n",
    "# Start an MLflow run\n",
    "    model_pipeline = Pipeline(steps=[('preprocessor', preprocessor),('regressor', model)])\n",
    "\n",
    "    # Train model\n",
    "    model_pipeline.fit(X_train, y_train)\n",
    "\n",
    "    y_pred = model_pipeline.predict(X_test)\n",
    "    mse = mean_squared_error(y_test, y_pred)\n",
    "    rmse = np.sqrt(mse)\n",
    "    with mlflow.start_run():\n",
    "\n",
    "    # Log the loss metric\n",
    "        mlflow.log_metric(\"rmse\", rmse)\n",
    "\n",
    "    # Set a tag that we can use to remind ourselves what this run was for\n",
    "        mlflow.set_tag(\"Training Info\", f\"{model_name} for diamonds data\")\n",
    "        \n",
    "    # Infer the model signature\n",
    "        \n",
    "        signature = infer_signature(X_train, model_pipeline.predict(X_train))\n",
    "\n",
    "    # Log the model\n",
    "        model_info = mlflow.sklearn.log_model(\n",
    "        sk_model=model_name,\n",
    "        artifact_path=f\"{model_name}_model\",\n",
    "        signature=signature,\n",
    "        input_example=X_train,\n",
    "        registered_model_name=\"tracking-diamonds\",\n",
    "        )"
   ]
  },
  {
   "cell_type": "markdown",
   "metadata": {},
   "source": [
    "## 6 model deployement\n"
   ]
  },
  {
   "cell_type": "markdown",
   "metadata": {},
   "source": [
    "### 6_1 Web Service"
   ]
  },
  {
   "cell_type": "markdown",
   "metadata": {},
   "source": [
    "#### * use FASTAPI package our model into web service"
   ]
  },
  {
   "cell_type": "markdown",
   "metadata": {},
   "source": []
  },
  {
   "cell_type": "code",
   "execution_count": null,
   "metadata": {},
   "outputs": [],
   "source": []
  },
  {
   "cell_type": "code",
   "execution_count": 39,
   "metadata": {},
   "outputs": [
    {
     "name": "stdout",
     "output_type": "stream",
     "text": [
      "Current working directory: c:\\Users\\c\\10.9\\Final_project\n"
     ]
    }
   ],
   "source": [
    "import os\n",
    "print(f\"Current working directory: {os.getcwd()}\")"
   ]
  },
  {
   "cell_type": "code",
   "execution_count": 72,
   "metadata": {},
   "outputs": [],
   "source": [
    "import pickle\n",
    "\n",
    "\n",
    "from typing import Any\n",
    "\n",
    "def save_pickle(path: str, obj: Any):\n",
    "    \"\"\"Saves the given object to a pickle file.\"\"\"\n",
    "    with open(path, \"wb\") as f:\n",
    "        pickle.dump(obj, f)\n",
    "\n",
    "def load_pickle(path: str):\n",
    "    \"\"\"Loads a pickle object from the specified file.\"\"\"\n",
    "    with open(path, \"rb\") as f:\n",
    "        return pickle.load(f)\n",
    "save_pickle('web_service/local_models/dv__v0.0.1.pkl', dv)  # Save the DictVectorizer\n",
    "save_pickle('web_service/local_models/model__v0.0.1.pkl', model)"
   ]
  },
  {
   "cell_type": "code",
   "execution_count": 68,
   "metadata": {},
   "outputs": [
    {
     "name": "stdout",
     "output_type": "stream",
     "text": [
      "<class 'sklearn.ensemble._forest.RandomForestRegressor'>\n",
      "{'bootstrap': True, 'ccp_alpha': 0.0, 'criterion': 'squared_error', 'max_depth': None, 'max_features': 1.0, 'max_leaf_nodes': None, 'max_samples': None, 'min_impurity_decrease': 0.0, 'min_samples_leaf': 1, 'min_samples_split': 2, 'min_weight_fraction_leaf': 0.0, 'n_estimators': 100, 'n_jobs': None, 'oob_score': False, 'random_state': None, 'verbose': 0, 'warm_start': False}\n"
     ]
    }
   ],
   "source": [
    "# Load the model\n",
    "loaded_model = load_pickle('web_service/local_models/model__v0.0.1.pkl')\n",
    "\n",
    "# Inspect the type of the model\n",
    "print(type(loaded_model))  # Example: <class 'sklearn.ensemble._forest.RandomForestRegressor'>\n",
    "\n",
    "# Access model parameters (if it is a scikit-learn model)\n",
    "if hasattr(loaded_model, 'get_params'):\n",
    "    print(loaded_model.get_params())\n"
   ]
  },
  {
   "cell_type": "code",
   "execution_count": 45,
   "metadata": {},
   "outputs": [],
   "source": [
    "train_df=(X_train,y_train)\n",
    "test_df=(X_test,y_test)"
   ]
  },
  {
   "cell_type": "code",
   "execution_count": 80,
   "metadata": {},
   "outputs": [],
   "source": [
    "train_df=data[:40000]\n",
    "test_df=data[40000:]"
   ]
  },
  {
   "cell_type": "code",
   "execution_count": 51,
   "metadata": {},
   "outputs": [],
   "source": [
    "\n",
    "def encode_categorical_cols(\n",
    "    df: pd.DataFrame, categorical_cols: List[str] = None\n",
    ") -> pd.DataFrame:\n",
    "    if categorical_cols is None:\n",
    "        categorical_cols = [\"cut\", \"color\", \"clarity\"]\n",
    "    df[categorical_cols] = df[categorical_cols].fillna(-1).astype(\"int\")\n",
    "    df[categorical_cols] = df[categorical_cols].astype(\"str\")\n",
    "    return df\n",
    "\n",
    "\n"
   ]
  },
  {
   "cell_type": "code",
   "execution_count": 97,
   "metadata": {},
   "outputs": [],
   "source": [
    "from sklearn.preprocessing import LabelEncoder\n",
    "\n",
    "def encode_categorical_cols(df, categorical_cols=None):\n",
    "    if categorical_cols is None:\n",
    "        categorical_cols = [\"cut\", \"color\", \"clarity\"]\n",
    "    \n",
    "    for col in categorical_cols:\n",
    "        df[col] = df[col].fillna(\"Unknown\")  # Handle missing values\n",
    "        label_encoder = LabelEncoder()\n",
    "        df[col] = label_encoder.fit_transform(df[col].astype(\"str\"))\n",
    "    \n",
    "    return df\n"
   ]
  },
  {
   "cell_type": "code",
   "execution_count": 57,
   "metadata": {},
   "outputs": [],
   "source": [
    "from scipy.sparse import csr_matrix, csc_matrix\n"
   ]
  },
  {
   "cell_type": "code",
   "execution_count": 100,
   "metadata": {},
   "outputs": [
    {
     "name": "stderr",
     "output_type": "stream",
     "text": [
      "C:\\Users\\c\\AppData\\Local\\Temp\\ipykernel_21284\\1640023574.py:8: SettingWithCopyWarning: \n",
      "A value is trying to be set on a copy of a slice from a DataFrame.\n",
      "Try using .loc[row_indexer,col_indexer] = value instead\n",
      "\n",
      "See the caveats in the documentation: https://pandas.pydata.org/pandas-docs/stable/user_guide/indexing.html#returning-a-view-versus-a-copy\n",
      "  df[col] = df[col].fillna(\"Unknown\")  # Handle missing values\n",
      "C:\\Users\\c\\AppData\\Local\\Temp\\ipykernel_21284\\1640023574.py:10: SettingWithCopyWarning: \n",
      "A value is trying to be set on a copy of a slice from a DataFrame.\n",
      "Try using .loc[row_indexer,col_indexer] = value instead\n",
      "\n",
      "See the caveats in the documentation: https://pandas.pydata.org/pandas-docs/stable/user_guide/indexing.html#returning-a-view-versus-a-copy\n",
      "  df[col] = label_encoder.fit_transform(df[col].astype(\"str\"))\n",
      "C:\\Users\\c\\AppData\\Local\\Temp\\ipykernel_21284\\1640023574.py:8: SettingWithCopyWarning: \n",
      "A value is trying to be set on a copy of a slice from a DataFrame.\n",
      "Try using .loc[row_indexer,col_indexer] = value instead\n",
      "\n",
      "See the caveats in the documentation: https://pandas.pydata.org/pandas-docs/stable/user_guide/indexing.html#returning-a-view-versus-a-copy\n",
      "  df[col] = df[col].fillna(\"Unknown\")  # Handle missing values\n",
      "C:\\Users\\c\\AppData\\Local\\Temp\\ipykernel_21284\\1640023574.py:10: SettingWithCopyWarning: \n",
      "A value is trying to be set on a copy of a slice from a DataFrame.\n",
      "Try using .loc[row_indexer,col_indexer] = value instead\n",
      "\n",
      "See the caveats in the documentation: https://pandas.pydata.org/pandas-docs/stable/user_guide/indexing.html#returning-a-view-versus-a-copy\n",
      "  df[col] = label_encoder.fit_transform(df[col].astype(\"str\"))\n",
      "C:\\Users\\c\\AppData\\Local\\Temp\\ipykernel_21284\\1640023574.py:8: SettingWithCopyWarning: \n",
      "A value is trying to be set on a copy of a slice from a DataFrame.\n",
      "Try using .loc[row_indexer,col_indexer] = value instead\n",
      "\n",
      "See the caveats in the documentation: https://pandas.pydata.org/pandas-docs/stable/user_guide/indexing.html#returning-a-view-versus-a-copy\n",
      "  df[col] = df[col].fillna(\"Unknown\")  # Handle missing values\n",
      "C:\\Users\\c\\AppData\\Local\\Temp\\ipykernel_21284\\1640023574.py:10: SettingWithCopyWarning: \n",
      "A value is trying to be set on a copy of a slice from a DataFrame.\n",
      "Try using .loc[row_indexer,col_indexer] = value instead\n",
      "\n",
      "See the caveats in the documentation: https://pandas.pydata.org/pandas-docs/stable/user_guide/indexing.html#returning-a-view-versus-a-copy\n",
      "  df[col] = label_encoder.fit_transform(df[col].astype(\"str\"))\n",
      "C:\\Users\\c\\AppData\\Local\\Temp\\ipykernel_21284\\1640023574.py:8: SettingWithCopyWarning: \n",
      "A value is trying to be set on a copy of a slice from a DataFrame.\n",
      "Try using .loc[row_indexer,col_indexer] = value instead\n",
      "\n",
      "See the caveats in the documentation: https://pandas.pydata.org/pandas-docs/stable/user_guide/indexing.html#returning-a-view-versus-a-copy\n",
      "  df[col] = df[col].fillna(\"Unknown\")  # Handle missing values\n",
      "C:\\Users\\c\\AppData\\Local\\Temp\\ipykernel_21284\\1640023574.py:10: SettingWithCopyWarning: \n",
      "A value is trying to be set on a copy of a slice from a DataFrame.\n",
      "Try using .loc[row_indexer,col_indexer] = value instead\n",
      "\n",
      "See the caveats in the documentation: https://pandas.pydata.org/pandas-docs/stable/user_guide/indexing.html#returning-a-view-versus-a-copy\n",
      "  df[col] = label_encoder.fit_transform(df[col].astype(\"str\"))\n",
      "C:\\Users\\c\\AppData\\Local\\Temp\\ipykernel_21284\\1640023574.py:8: SettingWithCopyWarning: \n",
      "A value is trying to be set on a copy of a slice from a DataFrame.\n",
      "Try using .loc[row_indexer,col_indexer] = value instead\n",
      "\n",
      "See the caveats in the documentation: https://pandas.pydata.org/pandas-docs/stable/user_guide/indexing.html#returning-a-view-versus-a-copy\n",
      "  df[col] = df[col].fillna(\"Unknown\")  # Handle missing values\n",
      "C:\\Users\\c\\AppData\\Local\\Temp\\ipykernel_21284\\1640023574.py:10: SettingWithCopyWarning: \n",
      "A value is trying to be set on a copy of a slice from a DataFrame.\n",
      "Try using .loc[row_indexer,col_indexer] = value instead\n",
      "\n",
      "See the caveats in the documentation: https://pandas.pydata.org/pandas-docs/stable/user_guide/indexing.html#returning-a-view-versus-a-copy\n",
      "  df[col] = label_encoder.fit_transform(df[col].astype(\"str\"))\n",
      "C:\\Users\\c\\AppData\\Local\\Temp\\ipykernel_21284\\1640023574.py:8: SettingWithCopyWarning: \n",
      "A value is trying to be set on a copy of a slice from a DataFrame.\n",
      "Try using .loc[row_indexer,col_indexer] = value instead\n",
      "\n",
      "See the caveats in the documentation: https://pandas.pydata.org/pandas-docs/stable/user_guide/indexing.html#returning-a-view-versus-a-copy\n",
      "  df[col] = df[col].fillna(\"Unknown\")  # Handle missing values\n",
      "C:\\Users\\c\\AppData\\Local\\Temp\\ipykernel_21284\\1640023574.py:10: SettingWithCopyWarning: \n",
      "A value is trying to be set on a copy of a slice from a DataFrame.\n",
      "Try using .loc[row_indexer,col_indexer] = value instead\n",
      "\n",
      "See the caveats in the documentation: https://pandas.pydata.org/pandas-docs/stable/user_guide/indexing.html#returning-a-view-versus-a-copy\n",
      "  df[col] = label_encoder.fit_transform(df[col].astype(\"str\"))\n",
      "c:\\Users\\c\\anaconda3\\envs\\nyc-taxi\\lib\\site-packages\\_distutils_hack\\__init__.py:15: UserWarning: Distutils was imported before Setuptools, but importing Setuptools also replaces the `distutils` module in `sys.modules`. This may lead to undesirable behaviors or errors. To avoid these issues, avoid using distutils directly, ensure that setuptools is installed in the traditional way (e.g. not an editable install), and/or make sure that setuptools is always imported before distutils.\n",
      "  warnings.warn(\n",
      "c:\\Users\\c\\anaconda3\\envs\\nyc-taxi\\lib\\site-packages\\_distutils_hack\\__init__.py:30: UserWarning: Setuptools is replacing distutils. Support for replacing an already imported distutils is deprecated. In the future, this condition will fail. Register concerns at https://github.com/pypa/setuptools/issues/new?template=distutils-deprecation.yml\n",
      "  warnings.warn(\n",
      "Registered model 'RandomForestRegressor_test' already exists. Creating a new version of this model...\n",
      "2025/01/06 05:47:29 INFO mlflow.tracking._model_registry.client: Waiting up to 300 seconds for model version to finish creation. Model name: RandomForestRegressor_test, version 4\n",
      "Created version '4' of model 'RandomForestRegressor_test'.\n"
     ]
    }
   ],
   "source": [
    "mlflow_experiment_path = f\"/mlflow/diamond_predict\"\n",
    "mlflow.set_experiment(mlflow_experiment_path)\n",
    "\n",
    "# Start a run\n",
    "with mlflow.start_run() as run:\n",
    "    run_id = run.info.run_id\n",
    "\n",
    "    # Set tags for the run\n",
    "    mlflow.set_tag(\"Level\", \"Development\")\n",
    "    mlflow.set_tag(\"Team\", \"Data Science\")\n",
    "\n",
    "    # Load data\n",
    "    \n",
    "  \n",
    "    mlflow.log_param(\"train_set_size\", train_df.shape[0])\n",
    "    mlflow.log_param(\"test_set_size\", test_df.shape[0])\n",
    "\n",
    "    \n",
    "   \n",
    "\n",
    "# Ensure X_train is dense\n",
    "    if isinstance(X_train, (csr_matrix, csc_matrix)):\n",
    "        X_train = X_train.toarray()\n",
    "\n",
    "# Create and train the model\n",
    "    model = RandomForestRegressor()\n",
    "    model.fit(X_train, y_train)\n",
    "\n",
    "# Predict on the training set (or a test set)\n",
    "\n",
    "\n",
    "   \n",
    "\n",
    "    # Encode categorical columns\n",
    "    train_df = encode_categorical_cols(train_df)\n",
    "\n",
    "    # Extract X and y\n",
    "    X_train, y_train, _ = extract_x_y(train_df)\n",
    "    if isinstance(X_train, (csr_matrix, csc_matrix)):\n",
    "       X_train = X_train.toarray()\n",
    "\n",
    "# Create and train the model\n",
    "    model = RandomForestRegressor()\n",
    "    model.fit(X_train, y_train)\n",
    "\n",
    "\n",
    "    # Train model\n",
    " \n",
    "\n",
    "    # Evaluate model\n",
    "    y_pred = model.predict(X_train)\n",
    "    mse = mean_squared_error(y_train, y_pred)\n",
    "    rmse = np.sqrt(mse)\n",
    "    \n",
    "    mlflow.log_metric(\"train_me\", rmse)\n",
    "\n",
    "    # Evaluate model on test set\n",
    "    \n",
    "    test_df = encode_categorical_cols(test_df)\n",
    "    # Train data\n",
    "    X_train, y_train, dv = extract_x_y(train_df)\n",
    "\n",
    "# Test data using the same dv\n",
    "   \n",
    "\n",
    "    X_test, y_test, dv = extract_x_y(test_df, dv=dv)\n",
    "    #dmatrix_data = xgb.DMatrix(X_test)\n",
    "    #y_pred_test = model_xgboost.predict(dmatrix_data)\n",
    "    y_pred_test = model.predict(X_test)\n",
    "    test_me = mean_squared_error(y_test, y_pred_test)\n",
    "    rmse = np.sqrt(test_me)\n",
    "    mlflow.log_metric(\"test_me\", rmse)\n",
    "\n",
    "    # Log your model\n",
    "    mlflow.sklearn.log_model(model, \"models\")\n",
    "\n",
    "    # Register your model as the production model\n",
    "    mlflow.register_model(f\"runs:/{run_id}/models\", \"RandomForestRegressor_test\")"
   ]
  },
  {
   "cell_type": "code",
   "execution_count": 70,
   "metadata": {},
   "outputs": [
    {
     "name": "stdout",
     "output_type": "stream",
     "text": [
      "<RegisteredModel: aliases={}, creation_timestamp=1736132869984, description='', last_updated_timestamp=1736133658367, latest_versions=[<ModelVersion: aliases=[], creation_timestamp=1736132870014, current_stage='None', description='', last_updated_timestamp=1736132870014, name='RandomForestRegressor_test', run_id='3a9e741bbe104fa4b91640fdd5e943ba', run_link='', source='mlflow-artifacts:/958600936449629552/3a9e741bbe104fa4b91640fdd5e943ba/artifacts/models', status='READY', status_message='', tags={}, user_id='', version='1'>,\n",
      " <ModelVersion: aliases=[], creation_timestamp=1736133029433, current_stage='Production', description='', last_updated_timestamp=1736133658367, name='RandomForestRegressor_test', run_id='ec311e061e204c28a60c9aca47cfa407', run_link='', source='mlflow-artifacts:/958600936449629552/ec311e061e204c28a60c9aca47cfa407/artifacts/models', status='READY', status_message='', tags={}, user_id='', version='2'>], name='RandomForestRegressor_test', tags={}>\n",
      "<RegisteredModel: aliases={}, creation_timestamp=1736128847621, description='', last_updated_timestamp=1736128847649, latest_versions=[<ModelVersion: aliases=[], creation_timestamp=1736128847649, current_stage='None', description='', last_updated_timestamp=1736128847649, name='iris_lr_model', run_id='d77f733e1e5140328c7962740bcf7778', run_link='', source='mlflow-artifacts:/718290349955982801/d77f733e1e5140328c7962740bcf7778/artifacts/models', status='READY', status_message='', tags={}, user_id='', version='1'>], name='iris_lr_model', tags={}>\n",
      "<RegisteredModel: aliases={}, creation_timestamp=1736128931966, description='', last_updated_timestamp=1736133189437, latest_versions=[<ModelVersion: aliases=[], creation_timestamp=1736132788062, current_stage='None', description='', last_updated_timestamp=1736132788062, name='linear_reg_test', run_id='8dc4fade815c412786cd508745fdbd71', run_link='', source='mlflow-artifacts:/958600936449629552/8dc4fade815c412786cd508745fdbd71/artifacts/models', status='READY', status_message='', tags={}, user_id='', version='2'>,\n",
      " <ModelVersion: aliases=[], creation_timestamp=1736128931993, current_stage='Production', description='', last_updated_timestamp=1736133189437, name='linear_reg_test', run_id='38cb6da02b334c2b9ea53a36383f49d1', run_link='', source='mlflow-artifacts:/718290349955982801/38cb6da02b334c2b9ea53a36383f49d1/artifacts/models', status='READY', status_message='', tags={}, user_id='', version='1'>], name='linear_reg_test', tags={}>\n",
      "<RegisteredModel: aliases={}, creation_timestamp=1736121793650, description='', last_updated_timestamp=1736122044016, latest_versions=[<ModelVersion: aliases=[], creation_timestamp=1736122044016, current_stage='None', description='', last_updated_timestamp=1736122044016, name='tracking-diamonds', run_id='772dbda42e2f48d5872c07c3079f074a', run_link='', source=('mlflow-artifacts:/936627379886763873/772dbda42e2f48d5872c07c3079f074a/artifacts/Support '\n",
      " 'Vector Regression_model'), status='READY', status_message='', tags={}, user_id='', version='4'>], name='tracking-diamonds', tags={}>\n",
      "Version: 1, Stage: None\n",
      "Version: 2, Stage: Production\n"
     ]
    }
   ],
   "source": [
    "from mlflow.tracking import MlflowClient\n",
    "\n",
    "client = MlflowClient()\n",
    "\n",
    "# List registered models\n",
    "for model in client.search_registered_models():\n",
    "    print(model)\n",
    "\n",
    "# List all versions for the specific model\n",
    "model_name = \"RandomForestRegressor_test\"\n",
    "model_versions = client.get_registered_model(name=model_name)\n",
    "for version in model_versions.latest_versions:\n",
    "    print(f\"Version: {version.version}, Stage: {version.current_stage}\")\n"
   ]
  },
  {
   "cell_type": "code",
   "execution_count": 69,
   "metadata": {},
   "outputs": [
    {
     "data": {
      "text/plain": [
       "<ModelVersion: aliases=[], creation_timestamp=1736133029433, current_stage='Production', description='', last_updated_timestamp=1736133658367, name='RandomForestRegressor_test', run_id='ec311e061e204c28a60c9aca47cfa407', run_link='', source='mlflow-artifacts:/958600936449629552/ec311e061e204c28a60c9aca47cfa407/artifacts/models', status='READY', status_message='', tags={}, user_id='', version='2'>"
      ]
     },
     "execution_count": 69,
     "metadata": {},
     "output_type": "execute_result"
    }
   ],
   "source": [
    "client = MlflowClient()\n",
    "production_version = 2\n",
    "\n",
    "client.transition_model_version_stage(\n",
    "    name=\"RandomForestRegressor_test\", version=production_version, stage=\"Production\"\n",
    ")"
   ]
  },
  {
   "cell_type": "code",
   "execution_count": null,
   "metadata": {},
   "outputs": [],
   "source": []
  }
 ],
 "metadata": {
  "kernelspec": {
   "display_name": "nyc-taxi",
   "language": "python",
   "name": "python3"
  },
  "language_info": {
   "codemirror_mode": {
    "name": "ipython",
    "version": 3
   },
   "file_extension": ".py",
   "mimetype": "text/x-python",
   "name": "python",
   "nbconvert_exporter": "python",
   "pygments_lexer": "ipython3",
   "version": "3.10.16"
  }
 },
 "nbformat": 4,
 "nbformat_minor": 2
}
